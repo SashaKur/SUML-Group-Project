{
 "cells": [
  {
   "cell_type": "code",
   "execution_count": null,
   "id": "initial_id",
   "metadata": {
    "collapsed": true
   },
   "outputs": [],
   "source": [
    "import pandas as pd\n",
    "from pathlib import Path\n",
    "import matplotlib.pyplot as plt"
   ]
  },
  {
   "cell_type": "code",
   "execution_count": null,
   "outputs": [],
   "source": [
    "book_ratings = pd.read_csv(Path() / \"../../data/01_raw/BX-Book-Ratings.csv\", sep=';', on_bad_lines=\"skip\", encoding=\"latin-1\")\n",
    "book_ratings.columns = ['user_id', 'isbn', 'book_rating']\n",
    "users = pd.read_csv(Path() / \"../../data/01_raw/BX-Users.csv\", sep=';', on_bad_lines=\"skip\", encoding=\"latin-1\")\n",
    "users.columns = ['user_id', 'location', 'age']\n",
    "books = pd.read_csv(Path() / \"../../data/01_raw/BX_Books.csv\", sep=';', on_bad_lines=\"skip\", encoding=\"latin-1\")\n",
    "books.columns = ['isbn', 'book_title', 'book_author', 'year_of_publication', 'publisher', 'image_urls', 'image_urlm', 'image_urll']"
   ],
   "metadata": {
    "collapsed": false
   },
   "id": "21ee849b924a17e5"
  },
  {
   "cell_type": "code",
   "execution_count": null,
   "outputs": [],
   "source": [
    "(book_ratings.merge(books, on='isbn')).merge(users, on=\"user_id\")"
   ],
   "metadata": {
    "collapsed": false
   },
   "id": "8501693d9cd14e58"
  },
  {
   "cell_type": "markdown",
   "source": [
    "## ratings eda"
   ],
   "metadata": {
    "collapsed": false,
    "ExecuteTime": {
     "end_time": "2023-11-13T12:24:53.485336Z",
     "start_time": "2023-11-13T12:24:53.449257Z"
    }
   },
   "id": "4f23792b2363fd22"
  },
  {
   "cell_type": "code",
   "execution_count": null,
   "outputs": [],
   "source": [
    "book_ratings.head()"
   ],
   "metadata": {
    "collapsed": false
   },
   "id": "b7df8b4405bb7670"
  },
  {
   "cell_type": "code",
   "execution_count": null,
   "outputs": [],
   "source": [
    "book_ratings.shape"
   ],
   "metadata": {
    "collapsed": false
   },
   "id": "de39eb5189189f1e"
  },
  {
   "cell_type": "code",
   "execution_count": null,
   "outputs": [],
   "source": [
    "book_ratings.info()"
   ],
   "metadata": {
    "collapsed": false
   },
   "id": "8a40a904c3484821"
  },
  {
   "cell_type": "code",
   "execution_count": null,
   "outputs": [],
   "source": [
    "book_ratings.isna().sum()"
   ],
   "metadata": {
    "collapsed": false
   },
   "id": "5d6e0a6f25332d9a"
  },
  {
   "cell_type": "code",
   "execution_count": null,
   "outputs": [],
   "source": [
    "plt.rc(\"font\", size=15)\n",
    "book_ratings.book_rating.value_counts(sort=False).plot(kind='bar')\n",
    "plt.title('Rating Distribution\\n')\n",
    "plt.xlabel('Rating')\n",
    "plt.ylabel('Count')\n",
    "plt.show()"
   ],
   "metadata": {
    "collapsed": false
   },
   "id": "24cf6cfbe8ed2ddf"
  },
  {
   "cell_type": "markdown",
   "source": [
    "## users eda"
   ],
   "metadata": {
    "collapsed": false
   },
   "id": "6aa8f79624c53d91"
  },
  {
   "cell_type": "code",
   "execution_count": null,
   "outputs": [],
   "source": [
    "users.head()"
   ],
   "metadata": {
    "collapsed": false
   },
   "id": "50c061db9927ba49"
  },
  {
   "cell_type": "code",
   "execution_count": null,
   "outputs": [],
   "source": [
    "users.shape"
   ],
   "metadata": {
    "collapsed": false
   },
   "id": "2dcfc54c45ae831b"
  },
  {
   "cell_type": "code",
   "execution_count": null,
   "outputs": [],
   "source": [
    "users.info()"
   ],
   "metadata": {
    "collapsed": false
   },
   "id": "cc6c25944f58466"
  },
  {
   "cell_type": "code",
   "execution_count": null,
   "outputs": [],
   "source": [
    "users.isna().sum()"
   ],
   "metadata": {
    "collapsed": false
   },
   "id": "1c8b8a4124155592"
  },
  {
   "cell_type": "code",
   "execution_count": null,
   "outputs": [],
   "source": [
    "users.age.hist(bins=[0, 10, 20, 30, 40, 50, 100])\n",
    "plt.title('Age Distribution\\n')\n",
    "plt.xlabel('Age')\n",
    "plt.ylabel('Count')\n",
    "plt.show()"
   ],
   "metadata": {
    "collapsed": false
   },
   "id": "d4d8e765503dd235"
  },
  {
   "cell_type": "markdown",
   "source": [
    "## books eda"
   ],
   "metadata": {
    "collapsed": false
   },
   "id": "5f31cf1659db4710"
  },
  {
   "cell_type": "code",
   "execution_count": null,
   "outputs": [],
   "source": [
    "books.head()"
   ],
   "metadata": {
    "collapsed": false
   },
   "id": "126e1b8a228f26f9"
  },
  {
   "cell_type": "code",
   "execution_count": null,
   "outputs": [],
   "source": [
    "books.shape"
   ],
   "metadata": {
    "collapsed": false
   },
   "id": "d686310360c8b7cd"
  },
  {
   "cell_type": "code",
   "execution_count": null,
   "outputs": [],
   "source": [
    "books.info()"
   ],
   "metadata": {
    "collapsed": false
   },
   "id": "aaf2cdb6571f0dfa"
  },
  {
   "cell_type": "code",
   "execution_count": null,
   "outputs": [],
   "source": [
    "books.isna().sum()"
   ],
   "metadata": {
    "collapsed": false
   },
   "id": "1d5e6a986a3fba92"
  },
  {
   "cell_type": "code",
   "execution_count": null,
   "outputs": [],
   "source": [],
   "metadata": {
    "collapsed": false
   },
   "id": "5ac0921bc8d1fbf1"
  }
 ],
 "metadata": {
  "kernelspec": {
   "display_name": "Python 3",
   "language": "python",
   "name": "python3"
  },
  "language_info": {
   "codemirror_mode": {
    "name": "ipython",
    "version": 2
   },
   "file_extension": ".py",
   "mimetype": "text/x-python",
   "name": "python",
   "nbconvert_exporter": "python",
   "pygments_lexer": "ipython2",
   "version": "2.7.6"
  }
 },
 "nbformat": 4,
 "nbformat_minor": 5
}
